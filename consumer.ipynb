{
 "cells": [
  {
   "cell_type": "code",
   "execution_count": null,
   "id": "1914a08f-b5c1-43a0-b4c1-1b40698be164",
   "metadata": {},
   "outputs": [],
   "source": [
    "!pip install s3fs"
   ]
  },
  {
   "cell_type": "code",
   "execution_count": null,
   "id": "a0d72b7f-c99a-4ce1-acc9-4ddf48beddc5",
   "metadata": {},
   "outputs": [],
   "source": [
    "from kafka import KafkaConsumer\n",
    "from time import sleep\n",
    "from json import dumps,loads\n",
    "import json\n",
    "from s3fs import S3FileSystem"
   ]
  },
  {
   "cell_type": "code",
   "execution_count": null,
   "id": "2e3fa887-dd35-4e74-a747-e06886fdd4b8",
   "metadata": {},
   "outputs": [],
   "source": [
    "\n",
    "consumer = KafkaConsumer(\n",
    "    'stock-market',\n",
    "     bootstrap_servers=[''35.***.***.**:9092''], #add your IP here\n",
    "    value_deserializer=lambda x: loads(x.decode('utf-8')))\n"
   ]
  },
  {
   "cell_type": "code",
   "execution_count": null,
   "id": "196606f1-4838-48b2-b028-c62ae5b79395",
   "metadata": {},
   "outputs": [],
   "source": [
    " #for c in consumer:\n",
    "      #print(c.value)"
   ]
  },
  {
   "cell_type": "code",
   "execution_count": null,
   "id": "d21e06ad-e00f-4ad4-a9d5-bd7a9507d263",
   "metadata": {},
   "outputs": [],
   "source": [
    "import s3fs\n",
    "\n",
    "s3 = s3fs.S3FileSystem(\n",
    "    key='AKIA-----------------', #add your access key \n",
    "    secret='HCdyZXr8tm------------------------', # add your secret key \n",
    "    client_kwargs={'region_name': 'us-east-1'}\n",
    ")\n",
    "\n",
    "for count, i in enumerate(consumer):\n",
    "    with s3.open(f\"s3://stock-market-realtime-kafka/stock_market_{count}.json\", 'w') as file:\n",
    "        json.dump(i.value, file)\n"
   ]
  },
  {
   "cell_type": "code",
   "execution_count": null,
   "id": "4ed7e0fb-c4e1-4ca7-920b-65322283a1b4",
   "metadata": {},
   "outputs": [],
   "source": []
  }
 ],
 "metadata": {
  "kernelspec": {
   "display_name": "Python 3 (ipykernel)",
   "language": "python",
   "name": "python3"
  },
  "language_info": {
   "codemirror_mode": {
    "name": "ipython",
    "version": 3
   },
   "file_extension": ".py",
   "mimetype": "text/x-python",
   "name": "python",
   "nbconvert_exporter": "python",
   "pygments_lexer": "ipython3",
   "version": "3.12.7"
  }
 },
 "nbformat": 4,
 "nbformat_minor": 5
}
